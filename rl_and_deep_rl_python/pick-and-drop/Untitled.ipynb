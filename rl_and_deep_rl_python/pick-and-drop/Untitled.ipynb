{
 "cells": [
  {
   "cell_type": "code",
   "execution_count": 69,
   "id": "39751138-d66a-4bde-9bbd-18f70ed06c6a",
   "metadata": {},
   "outputs": [],
   "source": [
    "class Field:\n",
    "    def __init__(self, size, item_pickup, item_dropoff, start_position):\n",
    "        self.size = size\n",
    "        self.item_pickup = item_pickup\n",
    "        self.item_dropoff = item_dropoff\n",
    "        self.position = start_position\n",
    "        self.item_in_car = False\n",
    "\n",
    "    def make_action(self, action):\n",
    "        (x,y) = self.position\n",
    "        if action == 0: #down\n",
    "            if y == self.size-1:\n",
    "                return -10, False\n",
    "            else:\n",
    "                self.position = (x, y+1)\n",
    "                return -1, False\n",
    "        if action == 1: #up\n",
    "            if y == 0:\n",
    "                return -10, False\n",
    "            else:\n",
    "                self.position = (x, y-1)\n",
    "                return -1, False\n",
    "        if action == 2: # left\n",
    "            if x == 0:\n",
    "                return -10, False\n",
    "            else:\n",
    "                self.position = (x-1, y)\n",
    "                return -1, False\n",
    "        if action == 3: # right\n",
    "            if x == self.size -1:\n",
    "                return -10, False\n",
    "            else:\n",
    "                self.position = (x+1, y)\n",
    "                return -1, False\n",
    "        if action == 4: # pickup\n",
    "            if self.item_pickup != (x,y) or self.item_in_car:\n",
    "                return -10, False\n",
    "            else:\n",
    "                self.item_in_car = True\n",
    "                return 20, False\n",
    "        if action == 5: # drop\n",
    "            if not self.item_in_car:\n",
    "                return -10, False\n",
    "            elif (x,y) != self.item_dropoff:\n",
    "                self.item_pickup = (x,y)\n",
    "                self.item_in_car = False\n",
    "                return -10, False\n",
    "            else:\n",
    "                self.item_in_car = False\n",
    "                return 20, True\n",
    "                \n",
    "    def get_number_of_states(self):\n",
    "        return self.size * self.size * self.size * self.size * 2\n",
    "\n",
    "    def get_state(self):\n",
    "        state = self.position[0]*self.size*self.size*self.size * 2\n",
    "        state = state + self.position[1]*self.size*self.size*2\n",
    "        state = state + self.item_pickup[0] * self.size * 2\n",
    "        state = state + self.item_pickup[1] * 2\n",
    "        if self.item_in_car:\n",
    "            state = state + 1\n",
    "        return state"
   ]
  },
  {
   "cell_type": "code",
   "execution_count": 65,
   "id": "28f485c3-8241-4993-8170-9fbcc9dee6c9",
   "metadata": {},
   "outputs": [],
   "source": [
    "def new_game():\n",
    "    size = 10\n",
    "    item_pickup = (0,0) \n",
    "    item_dropoff = (9,9)\n",
    "    start_position = (9,0)\n",
    "    return Field(size, item_pickup, item_dropoff, start_position)"
   ]
  },
  {
   "cell_type": "code",
   "execution_count": 32,
   "id": "29110264-e820-48b5-867b-df1669048066",
   "metadata": {},
   "outputs": [],
   "source": [
    "import random"
   ]
  },
  {
   "cell_type": "code",
   "execution_count": 33,
   "id": "d8aafaf6-5a95-4a20-840e-8d1f64da9687",
   "metadata": {},
   "outputs": [],
   "source": [
    "# Random Solution\n",
    "def random_solution():\n",
    "    field = new_game()\n",
    "\n",
    "    done = False\n",
    "    steps = 0\n",
    "    while not done:\n",
    "        action = random.randint(0, 5)\n",
    "        reward, done = field.make_action(action)\n",
    "        steps = steps + 1\n",
    "        \n",
    "    return steps"
   ]
  },
  {
   "cell_type": "code",
   "execution_count": 39,
   "id": "47cf0856-5fba-4062-b296-824aea03e279",
   "metadata": {},
   "outputs": [],
   "source": [
    "run = [random_solution() for _ in range(100)]"
   ]
  },
  {
   "cell_type": "code",
   "execution_count": 42,
   "id": "832d07dc-4b43-4040-bc58-edd2efb5758b",
   "metadata": {},
   "outputs": [
    {
     "data": {
      "text/plain": [
       "(680694, 6720)"
      ]
     },
     "execution_count": 42,
     "metadata": {},
     "output_type": "execute_result"
    }
   ],
   "source": [
    "max(run), min(run)"
   ]
  },
  {
   "cell_type": "code",
   "execution_count": 44,
   "id": "9d58b388-0741-42cc-9fba-54e05589b9d5",
   "metadata": {},
   "outputs": [
    {
     "data": {
      "text/plain": [
       "159842.21"
      ]
     },
     "execution_count": 44,
     "metadata": {},
     "output_type": "execute_result"
    }
   ],
   "source": [
    "# The minimum number of steps is 29\n",
    "sum(run) / 100"
   ]
  },
  {
   "cell_type": "markdown",
   "id": "784d7174-0961-4326-a654-5d6dc76863ba",
   "metadata": {},
   "source": [
    "## Q Learning"
   ]
  },
  {
   "cell_type": "code",
   "execution_count": 50,
   "id": "88d4b3c5-a18a-405a-883c-8f837436257c",
   "metadata": {},
   "outputs": [],
   "source": [
    "import numpy as np"
   ]
  },
  {
   "cell_type": "code",
   "execution_count": 88,
   "id": "a5d404c4-dd80-457a-9afc-4f012251d8cc",
   "metadata": {},
   "outputs": [],
   "source": [
    "field = new_game()\n",
    "number_of_states = field.get_number_of_states()\n",
    "number_of_actions = 6\n",
    "\n",
    "q_table = np.zeros((number_of_states, number_of_actions))\n",
    "\n",
    "epsilon = 0.1\n",
    "alpha = 0.1\n",
    "gamma = 0.6\n",
    "\n",
    "for _ in range(1000):\n",
    "    field = new_game()\n",
    "    done = False\n",
    "    steps = 0\n",
    "    while not done:\n",
    "        state = field.get_state()\n",
    "        if random.uniform(0,1) < epsilon:\n",
    "            action = random.randint(0,5) # explore\n",
    "        else:\n",
    "            action = np.argmax(q_table[state]) # exploit\n",
    "\n",
    "        reward, done = field.make_action(action)\n",
    "        new_state = field.get_state()\n",
    "        new_state_max = np.max(q_table[new_state])\n",
    "\n",
    "        q_table[state, action] = (1-alpha) * q_table[state, action] + alpha * (reward + gamma * new_state_max - q_table[state, action])\n",
    "        steps = steps + 1\n",
    "\n",
    "        "
   ]
  },
  {
   "cell_type": "code",
   "execution_count": 76,
   "id": "75fefad3-f291-4fcf-971b-ce406b53feb6",
   "metadata": {},
   "outputs": [],
   "source": [
    "def q_solution():\n",
    "    epsilon = 0.1\n",
    "    alpha = 0.1\n",
    "    gamma = 0.6\n",
    "\n",
    "    field = new_game()\n",
    "    done = False\n",
    "    steps = 0\n",
    "\n",
    "    while not done:\n",
    "        state = field.get_state()\n",
    "        if random.uniform(0,1) < epsilon:\n",
    "            action = random.randint(0,5) # explore\n",
    "        else:\n",
    "            action = np.argmax(q_table[state]) # exploit\n",
    "\n",
    "        reward, done = field.make_action(action)\n",
    "        new_state = field.get_state()\n",
    "        new_state_max = np.max(q_table[new_state])\n",
    "\n",
    "        q_table[state, action] = (1-alpha) * q_table[state, action] + alpha * (reward + gamma * new_state_max - q_table[state, action])\n",
    "        steps = steps + 1\n",
    "    return steps"
   ]
  },
  {
   "cell_type": "code",
   "execution_count": 93,
   "id": "3b165dd3-5ac6-4965-85e3-8b52ead26c1a",
   "metadata": {},
   "outputs": [
    {
     "data": {
      "text/plain": [
       "34"
      ]
     },
     "execution_count": 93,
     "metadata": {},
     "output_type": "execute_result"
    }
   ],
   "source": [
    "q_solution()"
   ]
  },
  {
   "cell_type": "code",
   "execution_count": null,
   "id": "50fabef6-6543-4cb4-a7d1-9bda240b7693",
   "metadata": {},
   "outputs": [],
   "source": []
  }
 ],
 "metadata": {
  "kernelspec": {
   "display_name": "Python 3 (ipykernel)",
   "language": "python",
   "name": "python3"
  },
  "language_info": {
   "codemirror_mode": {
    "name": "ipython",
    "version": 3
   },
   "file_extension": ".py",
   "mimetype": "text/x-python",
   "name": "python",
   "nbconvert_exporter": "python",
   "pygments_lexer": "ipython3",
   "version": "3.10.0"
  }
 },
 "nbformat": 4,
 "nbformat_minor": 5
}
