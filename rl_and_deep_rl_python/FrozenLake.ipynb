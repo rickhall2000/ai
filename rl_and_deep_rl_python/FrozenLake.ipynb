{
 "cells": [
  {
   "cell_type": "code",
   "execution_count": 1,
   "id": "a02af5aa-6d1a-4829-957f-f84ffc1e6628",
   "metadata": {},
   "outputs": [],
   "source": [
    "import numpy as np\n",
    "import gymnasium as gym \n",
    "import random"
   ]
  },
  {
   "cell_type": "code",
   "execution_count": 2,
   "id": "e5a9d316-a3cf-4abb-b13d-6686412c3710",
   "metadata": {},
   "outputs": [],
   "source": [
    "env_headless = gym.make('FrozenLake-v1',is_slippery=False)\n",
    "env_graphic = gym.make(\"FrozenLake-v1\", render_mode=\"human\", is_slippery=False)\n",
    "env = env_headless"
   ]
  },
  {
   "cell_type": "code",
   "execution_count": 3,
   "id": "eb3dea02-f3a4-4f81-aa67-0e126a5a6e32",
   "metadata": {},
   "outputs": [
    {
     "data": {
      "text/plain": [
       "(Discrete(4), Discrete(16))"
      ]
     },
     "execution_count": 3,
     "metadata": {},
     "output_type": "execute_result"
    }
   ],
   "source": [
    "action_space_size = env.action_space.n\n",
    "state_space_size = env.observation_space.n\n",
    "env.action_space, env.observation_space"
   ]
  },
  {
   "cell_type": "code",
   "execution_count": 4,
   "id": "6a63b1f0-3d03-496f-a397-d103bbda68d7",
   "metadata": {},
   "outputs": [
    {
     "name": "stdout",
     "output_type": "stream",
     "text": [
      "[[0. 0. 0. 0.]\n",
      " [0. 0. 0. 0.]\n",
      " [0. 0. 0. 0.]\n",
      " [0. 0. 0. 0.]\n",
      " [0. 0. 0. 0.]\n",
      " [0. 0. 0. 0.]\n",
      " [0. 0. 0. 0.]\n",
      " [0. 0. 0. 0.]\n",
      " [0. 0. 0. 0.]\n",
      " [0. 0. 0. 0.]\n",
      " [0. 0. 0. 0.]\n",
      " [0. 0. 0. 0.]\n",
      " [0. 0. 0. 0.]\n",
      " [0. 0. 0. 0.]\n",
      " [0. 0. 0. 0.]\n",
      " [0. 0. 0. 0.]]\n"
     ]
    }
   ],
   "source": [
    "qtable = np.zeros((state_space_size, action_space_size))\n",
    "print(qtable)"
   ]
  },
  {
   "cell_type": "code",
   "execution_count": 5,
   "id": "1b3e41ce-515c-4988-a950-f448a0db9aae",
   "metadata": {},
   "outputs": [],
   "source": [
    "total_episodes = 5000\n",
    "learning_rate = 0.2\n",
    "max_steps = 100\n",
    "gamma = 0.9\n",
    "epsilon = 1\n",
    "max_epsilon = 1\n",
    "min_epsilon = 0.01\n",
    "decay_rate = 0.001\n",
    "total_runs = 0"
   ]
  },
  {
   "cell_type": "code",
   "execution_count": null,
   "id": "a48dc3ab-8700-4ebb-bf2a-fa127616c4b3",
   "metadata": {},
   "outputs": [
    {
     "name": "stdout",
     "output_type": "stream",
     "text": [
      "Progress at  0\n",
      "Progress at  200\n",
      "Progress at  400\n",
      "Progress at  600\n",
      "Progress at  800\n",
      "Progress at  1000\n",
      "Progress at  1200\n",
      "Progress at  1400\n"
     ]
    }
   ],
   "source": [
    "for blah in range(1):\n",
    "    rewards = []\n",
    "    for episode in range(total_episodes):\n",
    "        if episode % 200 == 0:\n",
    "            print(\"Progress at \", episode)\n",
    "            env = env_graphic\n",
    "        else:\n",
    "            env = env_headless\n",
    "        state = env.reset()[0]\n",
    "        step = 0\n",
    "        done = False\n",
    "        total_rewards = 0\n",
    "        total_runs = total_runs+1\n",
    "        for step in range(max_steps):\n",
    "            if random.uniform(0,1) > epsilon:\n",
    "                action = np.argmax(qtable[state,:])\n",
    "            else:\n",
    "                action = env.action_space.sample()\n",
    "    \n",
    "            new_state, reward, done, info, extra = env.step(action)\n",
    "    \n",
    "    #        print(state, new_state, reward, done)\n",
    "            \n",
    "            max_new_state = np.max(qtable[new_state, :])\n",
    "            \n",
    "            qtable[state,action] = (1 - learning_rate) * qtable[state,action] + learning_rate * (reward + gamma * max_new_state - qtable[state, action])\n",
    "            total_rewards += reward\n",
    "            state = new_state\n",
    "        \n",
    "            if done:\n",
    "                rewards.append(total_rewards)\n",
    "                break\n",
    "    \n",
    "            epsilon = min_epsilon + (max_epsilon - min_epsilon) * np.exp(-decay_rate * episode)\n",
    "            \n",
    "    print(\"Total runs: \", total_runs, \"Score:\", str(sum(rewards)/total_episodes))\n",
    "#print(qtable)\n",
    "#total_runs"
   ]
  },
  {
   "cell_type": "code",
   "execution_count": null,
   "id": "3d2c2b44-b582-44cb-ad0c-a2935663f34d",
   "metadata": {},
   "outputs": [],
   "source": [
    "env = env_graphic\n",
    "env.reset()\n",
    "\n",
    "for episode in range(10):\n",
    "    state = env.reset()[0]\n",
    "    step = 0\n",
    "    done = False\n",
    "\n",
    "    print(\"Episode:\", episode+1)\n",
    "    for step in range(max_steps):\n",
    "        action = np.argmax(qtable[state,:])\n",
    "        new_state, reward, done, info, extra = env.step(action)\n",
    "        if done:\n",
    "            print(\"num of steps\", step)\n",
    "            break;\n",
    "        state = new_state\n",
    "\n",
    "env.close()"
   ]
  },
  {
   "cell_type": "code",
   "execution_count": null,
   "id": "fc1ad488-6ad9-4a3c-8fa7-71321bf43340",
   "metadata": {},
   "outputs": [],
   "source": []
  },
  {
   "cell_type": "code",
   "execution_count": null,
   "id": "09fb2413-024c-40f6-9664-20a11e5a4d89",
   "metadata": {},
   "outputs": [],
   "source": []
  }
 ],
 "metadata": {
  "kernelspec": {
   "display_name": "Python 3 (ipykernel)",
   "language": "python",
   "name": "python3"
  },
  "language_info": {
   "codemirror_mode": {
    "name": "ipython",
    "version": 3
   },
   "file_extension": ".py",
   "mimetype": "text/x-python",
   "name": "python",
   "nbconvert_exporter": "python",
   "pygments_lexer": "ipython3",
   "version": "3.10.0"
  }
 },
 "nbformat": 4,
 "nbformat_minor": 5
}
